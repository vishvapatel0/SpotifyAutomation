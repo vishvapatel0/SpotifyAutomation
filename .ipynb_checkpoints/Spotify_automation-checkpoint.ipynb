{
 "cells": [
  {
   "cell_type": "markdown",
   "id": "0b1ea9fd",
   "metadata": {},
   "source": [
    "# Spotify Automation"
   ]
  },
  {
   "cell_type": "markdown",
   "id": "2b2b86dd",
   "metadata": {},
   "source": [
    "#### import the libraries "
   ]
  },
  {
   "cell_type": "code",
   "execution_count": 1,
   "id": "ee279f0f",
   "metadata": {},
   "outputs": [],
   "source": [
    "import pyautogui as pg\n",
    "import time"
   ]
  },
  {
   "cell_type": "markdown",
   "id": "51e73427",
   "metadata": {},
   "source": [
    "#### WRITE YOUR CODE BELOW :"
   ]
  },
  {
   "cell_type": "code",
   "execution_count": 2,
   "id": "079cbff8",
   "metadata": {},
   "outputs": [],
   "source": [
    "time.sleep(1)\n",
    "pg.press(\"win\") #opens the window.\n",
    "pg.write(\"spotify\")  # searchs for the spotify.\n",
    "time.sleep(1)\n",
    "pg.press(\"enter\")  #opens the spotify.\n",
    "time.sleep(5)\n",
    "pg.hotkey('ctrl', 'l')  # opens search box.\n",
    "pg.write(\" cheri cheri lady\", interval = 0.25)  #search for your favorate song.\n",
    "loc = pg.locateOnScreen(\"cheri.png\",confidence = 0.7)  \n",
    "loc_c = pg.center(loc)\n",
    "pg.moveTo(loc_c)\n",
    "time.sleep(2)\n",
    "pg.doubleClick()"
   ]
  }
 ],
 "metadata": {
  "kernelspec": {
   "display_name": "Python 3 (ipykernel)",
   "language": "python",
   "name": "python3"
  },
  "language_info": {
   "codemirror_mode": {
    "name": "ipython",
    "version": 3
   },
   "file_extension": ".py",
   "mimetype": "text/x-python",
   "name": "python",
   "nbconvert_exporter": "python",
   "pygments_lexer": "ipython3",
   "version": "3.11.4"
  }
 },
 "nbformat": 4,
 "nbformat_minor": 5
}
